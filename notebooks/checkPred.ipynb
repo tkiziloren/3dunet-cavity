{
 "cells": [
  {
   "cell_type": "code",
   "execution_count": 1,
   "id": "b5993d23",
   "metadata": {},
   "outputs": [
    {
     "data": {
      "text/html": [
       "<style>.container { width:100% !important; }</style>"
      ],
      "text/plain": [
       "<IPython.core.display.HTML object>"
      ]
     },
     "metadata": {},
     "output_type": "display_data"
    },
    {
     "ename": "ModuleNotFoundError",
     "evalue": "No module named 'pytorch3dunet'",
     "output_type": "error",
     "traceback": [
      "\u001b[0;31m---------------------------------------------------------------------------\u001b[0m",
      "\u001b[0;31mModuleNotFoundError\u001b[0m                       Traceback (most recent call last)",
      "\u001b[0;32m<ipython-input-1-fd65579b32c9>\u001b[0m in \u001b[0;36m<module>\u001b[0;34m\u001b[0m\n\u001b[1;32m      6\u001b[0m \u001b[0;32mimport\u001b[0m \u001b[0mtorch\u001b[0m\u001b[0;34m\u001b[0m\u001b[0;34m\u001b[0m\u001b[0m\n\u001b[1;32m      7\u001b[0m \u001b[0;32mimport\u001b[0m \u001b[0mnumpy\u001b[0m \u001b[0;32mas\u001b[0m \u001b[0mnp\u001b[0m\u001b[0;34m\u001b[0m\u001b[0;34m\u001b[0m\u001b[0m\n\u001b[0;32m----> 8\u001b[0;31m \u001b[0;32mfrom\u001b[0m \u001b[0mpytorch3dunet\u001b[0m\u001b[0;34m.\u001b[0m\u001b[0munet3d\u001b[0m\u001b[0;34m.\u001b[0m\u001b[0mlosses\u001b[0m \u001b[0;32mimport\u001b[0m \u001b[0;34m*\u001b[0m\u001b[0;34m\u001b[0m\u001b[0;34m\u001b[0m\u001b[0m\n\u001b[0m\u001b[1;32m      9\u001b[0m \u001b[0;32mfrom\u001b[0m \u001b[0mpytorch3dunet\u001b[0m\u001b[0;34m.\u001b[0m\u001b[0munet3d\u001b[0m\u001b[0;34m.\u001b[0m\u001b[0mmetrics\u001b[0m \u001b[0;32mimport\u001b[0m \u001b[0mMeanIoU\u001b[0m\u001b[0;34m\u001b[0m\u001b[0;34m\u001b[0m\u001b[0m\n\u001b[1;32m     10\u001b[0m \u001b[0;32mfrom\u001b[0m \u001b[0mpathlib\u001b[0m \u001b[0;32mimport\u001b[0m \u001b[0mPath\u001b[0m\u001b[0;34m\u001b[0m\u001b[0;34m\u001b[0m\u001b[0m\n",
      "\u001b[0;31mModuleNotFoundError\u001b[0m: No module named 'pytorch3dunet'"
     ]
    }
   ],
   "source": [
    "from IPython.core.display import display, HTML\n",
    "from scipy.spatial.transform import Rotation\n",
    "display(HTML(\"<style>.container { width:100% !important; }</style>\"))\n",
    "import h5py\n",
    "from matplotlib import pyplot as plt\n",
    "import torch\n",
    "import numpy as np\n",
    "from pytorch3dunet.unet3d.losses import *\n",
    "from pytorch3dunet.unet3d.metrics import MeanIoU\n",
    "from pathlib import Path\n",
    "import glob\n",
    "import os\n",
    "import h5py\n",
    "import numpy as np\n",
    "import prody\n",
    "import prody as pr\n",
    "from potsim2 import PotGrid\n",
    "import sklearn\n",
    "from sklearn.metrics import matthews_corrcoef as mcc \n",
    "from sklearn.metrics import f1_score\n",
    "import os\n",
    "import pandas as pd\n",
    "\n",
    "\n",
    "import matplotlib\n",
    "#matplotlib.use('TkAgg')\n",
    "\n",
    "%matplotlib inline"
   ]
  },
  {
   "cell_type": "code",
   "execution_count": 2,
   "id": "a3044c20",
   "metadata": {},
   "outputs": [
    {
     "ename": "NameError",
     "evalue": "name 'DiceLoss' is not defined",
     "output_type": "error",
     "traceback": [
      "\u001b[0;31m---------------------------------------------------------------------------\u001b[0m",
      "\u001b[0;31mNameError\u001b[0m                                 Traceback (most recent call last)",
      "\u001b[0;32m<ipython-input-2-27d87e575fbf>\u001b[0m in \u001b[0;36m<module>\u001b[0;34m\u001b[0m\n\u001b[0;32m----> 1\u001b[0;31m \u001b[0;32mclass\u001b[0m \u001b[0mDiceProbLoss\u001b[0m\u001b[0;34m(\u001b[0m\u001b[0mDiceLoss\u001b[0m\u001b[0;34m)\u001b[0m\u001b[0;34m:\u001b[0m\u001b[0;34m\u001b[0m\u001b[0;34m\u001b[0m\u001b[0m\n\u001b[0m\u001b[1;32m      2\u001b[0m     \u001b[0;32mdef\u001b[0m \u001b[0m__init__\u001b[0m\u001b[0;34m(\u001b[0m\u001b[0mself\u001b[0m\u001b[0;34m)\u001b[0m\u001b[0;34m:\u001b[0m\u001b[0;34m\u001b[0m\u001b[0;34m\u001b[0m\u001b[0m\n\u001b[1;32m      3\u001b[0m         \u001b[0msuper\u001b[0m\u001b[0;34m(\u001b[0m\u001b[0mDiceProbLoss\u001b[0m\u001b[0;34m,\u001b[0m \u001b[0mself\u001b[0m\u001b[0;34m)\u001b[0m\u001b[0;34m.\u001b[0m\u001b[0m__init__\u001b[0m\u001b[0;34m(\u001b[0m\u001b[0mnormalization\u001b[0m\u001b[0;34m=\u001b[0m\u001b[0;34m'none'\u001b[0m\u001b[0;34m)\u001b[0m\u001b[0;34m\u001b[0m\u001b[0;34m\u001b[0m\u001b[0m\n\u001b[1;32m      4\u001b[0m \u001b[0;34m\u001b[0m\u001b[0m\n\u001b[1;32m      5\u001b[0m \u001b[0;32mclass\u001b[0m \u001b[0mMeanIoUBin\u001b[0m\u001b[0;34m(\u001b[0m\u001b[0mMeanIoU\u001b[0m\u001b[0;34m)\u001b[0m\u001b[0;34m:\u001b[0m\u001b[0;34m\u001b[0m\u001b[0;34m\u001b[0m\u001b[0m\n",
      "\u001b[0;31mNameError\u001b[0m: name 'DiceLoss' is not defined"
     ]
    }
   ],
   "source": [
    "class DiceProbLoss(DiceLoss):\n",
    "    def __init__(self):\n",
    "        super(DiceProbLoss, self).__init__(normalization='none')\n",
    "\n",
    "class MeanIoUBin(MeanIoU):\n",
    "    def __init__(self):\n",
    "        super(MeanIoUBin, self).__init__(is_binarized=True)\n",
    "\n",
    "class BCEDiceBinLoss(nn.Module):\n",
    "    \"\"\"Linear combination of BCE and Dice losses\"\"\"\n",
    "\n",
    "    def __init__(self, alpha, beta):\n",
    "        super(BCEDiceBinLoss, self).__init__()\n",
    "        self.alpha = alpha\n",
    "        self.bce = nn.BCELoss()\n",
    "        self.beta = beta\n",
    "        self.dice = DiceBinLoss()\n",
    "\n",
    "    def forward(self, input, target):\n",
    "        return self.alpha * self.bce(input, target) + self.beta * self.dice(input, target)\n",
    "\n",
    "\n",
    "initLosses = {\n",
    "    \"BCE\": nn.BCELoss,\n",
    "    \"Dice\": DiceProbLoss,\n",
    "    \"MeanIoU\": MeanIoU\n",
    "}"
   ]
  },
  {
   "cell_type": "code",
   "execution_count": 25,
   "id": "c39aee96",
   "metadata": {},
   "outputs": [],
   "source": [
    "basepred = Path('/home/lorenzo/3dunet-cavity/runs/run_210623_gpu/predictions')\n",
    "baseorig = Path('/home/lorenzo/deep_apbs/destData/refined-set_filter')\n",
    "\n",
    "def genDataSets():\n",
    "\n",
    "    for predfname in glob.glob(str(basepred / '*_grids_predictions.h5')):\n",
    "        name = Path(predfname).name.split('_')[0]\n",
    "        labelfname = baseorig / name / f'{name}_grids.h5'\n",
    "        \n",
    "        if not os.path.exists(labelfname):\n",
    "            print(f'{labelfname} does not exist.')\n",
    "            continue\n",
    "        \n",
    "        labelT = torch.tensor(h5py.File(labelfname)['label'], dtype=torch.float32)\n",
    "        labelT = labelT[None,None]\n",
    "        predT = torch.tensor(h5py.File(predfname)['predictions'])\n",
    "        predT = predT[None]\n",
    "        \n",
    "        yield name, (predT, labelT)"
   ]
  },
  {
   "cell_type": "code",
   "execution_count": 26,
   "id": "165154cf",
   "metadata": {},
   "outputs": [],
   "source": [
    "class RunningAverage:\n",
    "    def __init__(self, loss):\n",
    "        self.count = 0\n",
    "        self.sum = 0\n",
    "        self.loss = loss\n",
    "        self.losses = {}\n",
    "\n",
    "    def update(self, pred, label, name):\n",
    "        self.count += 1\n",
    "        loss = self.loss(pred, label).item()\n",
    "        self.sum += loss\n",
    "        self.losses[name] = loss\n",
    "\n",
    "    def value(self):\n",
    "        return self.sum / self.count\n",
    "    \n",
    "class AverageLosses:\n",
    "    def __init__(self, losses, kwargs=None):\n",
    "        if kwargs is None:\n",
    "            kwargs = {name:{} for name in losses.keys()}\n",
    "        self.losses = {name: RunningAverage(loss(**kwargs[name])) for name,loss in losses.items()}\n",
    "\n",
    "    def update(self, pred, label, prot):\n",
    "        for name in self.losses.keys():\n",
    "            self.losses[name].update(pred,label, prot)\n",
    "        \n",
    "    def value(self):\n",
    "        return {name: loss.value() for name,loss in self.losses.items()}"
   ]
  },
  {
   "cell_type": "code",
   "execution_count": 27,
   "id": "6c321247",
   "metadata": {},
   "outputs": [
    {
     "name": "stdout",
     "output_type": "stream",
     "text": [
      "/home/lorenzo/deep_apbs/destData/refined-set_filter/1oba/1oba_grids.h5 does not exist.\n",
      "/home/lorenzo/deep_apbs/destData/refined-set_filter/2epn/2epn_grids.h5 does not exist.\n",
      "/home/lorenzo/deep_apbs/destData/refined-set_filter/1tkb/1tkb_grids.h5 does not exist.\n",
      "/home/lorenzo/deep_apbs/destData/refined-set_filter/1rnt/1rnt_grids.h5 does not exist.\n",
      "/home/lorenzo/deep_apbs/destData/refined-set_filter/2h21/2h21_grids.h5 does not exist.\n",
      "/home/lorenzo/deep_apbs/destData/refined-set_filter/2am4/2am4_grids.h5 does not exist.\n",
      "/home/lorenzo/deep_apbs/destData/refined-set_filter/1x8d/1x8d_grids.h5 does not exist.\n",
      "/home/lorenzo/deep_apbs/destData/refined-set_filter/2euk/2euk_grids.h5 does not exist.\n",
      "/home/lorenzo/deep_apbs/destData/refined-set_filter/1lnm/1lnm_grids.h5 does not exist.\n",
      "/home/lorenzo/deep_apbs/destData/refined-set_filter/1o1s/1o1s_grids.h5 does not exist.\n",
      "/home/lorenzo/deep_apbs/destData/refined-set_filter/1r9l/1r9l_grids.h5 does not exist.\n",
      "/home/lorenzo/deep_apbs/destData/refined-set_filter/1o5e/1o5e_grids.h5 does not exist.\n",
      "/home/lorenzo/deep_apbs/destData/refined-set_filter/1pgp/1pgp_grids.h5 does not exist.\n",
      "/home/lorenzo/deep_apbs/destData/refined-set_filter/1f74/1f74_grids.h5 does not exist.\n",
      "/home/lorenzo/deep_apbs/destData/refined-set_filter/1wn6/1wn6_grids.h5 does not exist.\n",
      "/home/lorenzo/deep_apbs/destData/refined-set_filter/1ua4/1ua4_grids.h5 does not exist.\n",
      "/home/lorenzo/deep_apbs/destData/refined-set_filter/1kyv/1kyv_grids.h5 does not exist.\n",
      "/home/lorenzo/deep_apbs/destData/refined-set_filter/1h2k/1h2k_grids.h5 does not exist.\n",
      "/home/lorenzo/deep_apbs/destData/refined-set_filter/1g30/1g30_grids.h5 does not exist.\n",
      "/home/lorenzo/deep_apbs/destData/refined-set_filter/1l83/1l83_grids.h5 does not exist.\n",
      "/home/lorenzo/deep_apbs/destData/refined-set_filter/2fxv/2fxv_grids.h5 does not exist.\n",
      "/home/lorenzo/deep_apbs/destData/refined-set_filter/2gyi/2gyi_grids.h5 does not exist.\n",
      "/home/lorenzo/deep_apbs/destData/refined-set_filter/1n4k/1n4k_grids.h5 does not exist.\n",
      "/home/lorenzo/deep_apbs/destData/refined-set_filter/2ews/2ews_grids.h5 does not exist.\n",
      "/home/lorenzo/deep_apbs/destData/refined-set_filter/2e2p/2e2p_grids.h5 does not exist.\n",
      "/home/lorenzo/deep_apbs/destData/refined-set_filter/2gsu/2gsu_grids.h5 does not exist.\n",
      "/home/lorenzo/deep_apbs/destData/refined-set_filter/1wuq/1wuq_grids.h5 does not exist.\n",
      "/home/lorenzo/deep_apbs/destData/refined-set_filter/2d0k/2d0k_grids.h5 does not exist.\n",
      "/home/lorenzo/deep_apbs/destData/refined-set_filter/1moq/1moq_grids.h5 does not exist.\n",
      "/home/lorenzo/deep_apbs/destData/refined-set_filter/1qaw/1qaw_grids.h5 does not exist.\n",
      "/home/lorenzo/deep_apbs/destData/refined-set_filter/1wc1/1wc1_grids.h5 does not exist.\n"
     ]
    }
   ],
   "source": [
    "OracleLoss = AverageLosses(initLosses)\n",
    "UnetLoss = AverageLosses(initLosses)\n",
    "RandLoss = AverageLosses(initLosses)\n",
    "RandUnitLoss = AverageLosses(initLosses)\n",
    "ZeroLoss = AverageLosses(initLosses)\n",
    "UnitLoss = AverageLosses(initLosses)\n",
    "\n",
    "for name, (predT, labelT) in genDataSets():\n",
    "    constPred = torch.zeros_like(labelT)\n",
    "    ZeroLoss.update(constPred, labelT, name)\n",
    "\n",
    "    constPred[:] = 1\n",
    "    UnitLoss.update(constPred, labelT, name)\n",
    "\n",
    "    UnetLoss.update(predT, labelT, name)\n",
    "\n",
    "    OracleLoss.update(labelT, labelT, name)\n",
    "\n",
    "    randPred = torch.rand(size=constPred.size(), dtype=constPred.dtype, device=constPred.device, requires_grad=False)\n",
    "    RandLoss.update(randPred, labelT, name)\n",
    "    \n",
    "    randPred[randPred < 0.5] = 0\n",
    "    randPred[randPred > 0.5] = 1\n",
    "    RandUnitLoss.update(randPred, labelT, name)"
   ]
  },
  {
   "cell_type": "code",
   "execution_count": 28,
   "id": "31a435d3",
   "metadata": {},
   "outputs": [
    {
     "data": {
      "text/plain": [
       "({'BCE': 49.99950144841121,\n",
       "  'Dice': 0.997966271180373,\n",
       "  'MeanIoU': 0.0010180229527087738},\n",
       " {'BCE': 0.9999702343573937,\n",
       "  'Dice': 0.9969496108018435,\n",
       "  'MeanIoU': 0.0010180229527087738},\n",
       " {'BCE': 99.89769275371845,\n",
       "  'Dice': 0.997956259892537,\n",
       "  'MeanIoU': 0.001023037529263932},\n",
       " {'BCE': 0.1023037525323721, 'Dice': 1.0, 'MeanIoU': 0.0},\n",
       " {'BCE': 0.0, 'Dice': 0.0, 'MeanIoU': 1.0})"
      ]
     },
     "execution_count": 28,
     "metadata": {},
     "output_type": "execute_result"
    }
   ],
   "source": [
    "RandUnitLoss.value(), RandLoss.value(), UnitLoss.value(), ZeroLoss.value(),OracleLoss.value()"
   ]
  },
  {
   "cell_type": "code",
   "execution_count": 32,
   "id": "c20fc60b",
   "metadata": {},
   "outputs": [
    {
     "data": {
      "text/plain": [
       "{'1sw2': 0.4645071029663086,\n",
       " '1fiv': 0.6156509518623352,\n",
       " '1a4r': 0.17319780588150024,\n",
       " '4gbd': 0.6333988904953003,\n",
       " '5g1z': 0.12134632468223572,\n",
       " '5gja': 0.3489736020565033,\n",
       " '2fqt': 0.29123446345329285,\n",
       " '4r75': 0.567950963973999,\n",
       " '4non': 0.15870153903961182,\n",
       " '3fjg': 0.5126749873161316,\n",
       " '3s0e': 0.493194043636322,\n",
       " '1dy4': 0.5372849106788635,\n",
       " '1dqn': 0.2584525942802429,\n",
       " '1m48': 0.027618248015642166,\n",
       " '5yz2': 0.20882698893547058,\n",
       " '4fxp': 0.48952972888946533,\n",
       " '5mxf': 0.0,\n",
       " '1ctt': 0.0,\n",
       " '1ceb': 0.2004687339067459,\n",
       " '5km9': 0.18358531594276428,\n",
       " '2dw7': 0.008737157098948956,\n",
       " '1t7d': 0.22022944688796997,\n",
       " '5tcj': 0.03971793130040169,\n",
       " '5vij': 0.4260115623474121,\n",
       " '4jwk': 0.23512376844882965,\n",
       " '5tuz': 0.09520634263753891}"
      ]
     },
     "execution_count": 32,
     "metadata": {},
     "output_type": "execute_result"
    }
   ],
   "source": [
    "UnetLoss.losses['MeanIoU'].losses"
   ]
  },
  {
   "cell_type": "code",
   "execution_count": null,
   "id": "498b7e0c",
   "metadata": {},
   "outputs": [],
   "source": [
    "thress = np.linspace(0.1,1.0,10)\n",
    "\n",
    "kwargs = {f\"MeanIoU_{thres}\": {'thres':thres} for thres in thress}\n",
    "initLosses = {f\"MeanIoU_{thres}\": MeanIoU for thres in thress}\n",
    "\n",
    "UnetLosses = AverageLosses(initLosses, kwargs)\n",
    "\n",
    "for name, (predT, labelT) in genDataSets():\n",
    "    UnetLosses.update(predT, labelT, name)"
   ]
  },
  {
   "cell_type": "code",
   "execution_count": null,
   "id": "c5d415ff",
   "metadata": {},
   "outputs": [],
   "source": [
    "UnetLosses.losses['MeanIoU'].losses"
   ]
  },
  {
   "cell_type": "markdown",
   "id": "861e508b",
   "metadata": {},
   "source": [
    "## Scratch"
   ]
  },
  {
   "cell_type": "code",
   "execution_count": 5,
   "id": "0cd8783a",
   "metadata": {},
   "outputs": [],
   "source": [
    "import h5py\n",
    "\n",
    "fname =  '/home/lorenzo/3dunet-cavity/runs/test_3/tmp/4qij/grids.h5'\n",
    "\n",
    "h5 = h5py.File(fname, 'r')"
   ]
  },
  {
   "cell_type": "code",
   "execution_count": 9,
   "id": "67ebf9b2",
   "metadata": {},
   "outputs": [
    {
     "data": {
      "text/plain": [
       "5655.0"
      ]
     },
     "execution_count": 9,
     "metadata": {},
     "output_type": "execute_result"
    }
   ],
   "source": [
    "h5['raws'][0][0].sum()"
   ]
  },
  {
   "cell_type": "code",
   "execution_count": 11,
   "id": "6c05762b",
   "metadata": {},
   "outputs": [
    {
     "data": {
      "text/plain": [
       "(0.019379736825611633, 2.07141037408601)"
      ]
     },
     "execution_count": 11,
     "metadata": {},
     "output_type": "execute_result"
    }
   ],
   "source": [
    "h5['raws'][0][1].mean(), h5['raws'][0][1].std()"
   ]
  },
  {
   "cell_type": "code",
   "execution_count": 3,
   "id": "3235137e",
   "metadata": {},
   "outputs": [],
   "source": [
    "with h5py.File(h5path2, 'w') as h52:\n",
    "    h52.create_dataset('raws', data=h5['raws'][0])\n",
    "    h52.create_dataset('labels', data=h5['labels'][0].astype(float))"
   ]
  },
  {
   "cell_type": "code",
   "execution_count": 6,
   "id": "013d7c16",
   "metadata": {},
   "outputs": [
    {
     "data": {
      "text/plain": [
       "0.0    4164884\n",
       "1.0       8397\n",
       "dtype: int64"
      ]
     },
     "execution_count": 6,
     "metadata": {},
     "output_type": "execute_result"
    }
   ],
   "source": [
    "with h5py.File(h5path2, 'r') as h52:\n",
    "    df = pd.Series(h52['labels'][:].flatten())\n",
    "df.value_counts()"
   ]
  },
  {
   "cell_type": "code",
   "execution_count": 39,
   "id": "8f446804",
   "metadata": {},
   "outputs": [],
   "source": [
    "name = '4us3'\n",
    "angles = [1.5273467402269651, 1.3922370730364215, -0.21520977985323195]"
   ]
  },
  {
   "cell_type": "code",
   "execution_count": 41,
   "id": "c24d799c",
   "metadata": {},
   "outputs": [],
   "source": [
    "m = Rotation.from_euler('xyz', [1.5273467402269651, 1.3922370730364215, -0.21520977985323195])\n",
    "r = m.as_matrix()"
   ]
  },
  {
   "cell_type": "code",
   "execution_count": 43,
   "id": "6fce9462",
   "metadata": {},
   "outputs": [
    {
     "data": {
      "text/plain": [
       "<function Rotation.from_euler>"
      ]
     },
     "execution_count": 43,
     "metadata": {},
     "output_type": "execute_result"
    }
   ],
   "source": [
    "Rotation.from_euler()"
   ]
  },
  {
   "cell_type": "code",
   "execution_count": 33,
   "id": "3a3b612c",
   "metadata": {},
   "outputs": [],
   "source": [
    "import yaml\n",
    "import h5py\n",
    "\n",
    "conf = yaml.safe_load(open(rf'/home/lorenzo/3dunet-cavity/runs/210805_pdb/run_config.yml','r'))"
   ]
  },
  {
   "cell_type": "code",
   "execution_count": null,
   "id": "62b43f63",
   "metadata": {},
   "outputs": [],
   "source": [
    "h5py.File()"
   ]
  },
  {
   "cell_type": "code",
   "execution_count": 32,
   "id": "eea1c020",
   "metadata": {},
   "outputs": [
    {
     "data": {
      "text/plain": [
       "6977.725832"
      ]
     },
     "execution_count": 32,
     "metadata": {},
     "output_type": "execute_result"
    }
   ],
   "source": [
    "len(conf['val']) * (arr.size * 8) / 10**6"
   ]
  },
  {
   "cell_type": "code",
   "execution_count": 12,
   "id": "3664bffb",
   "metadata": {},
   "outputs": [],
   "source": [
    "import numpy as np\n",
    "import sys\n",
    "\n",
    "arr = np.random.random(size=(161,161,161))"
   ]
  },
  {
   "cell_type": "code",
   "execution_count": 18,
   "id": "8f9f4312",
   "metadata": {},
   "outputs": [
    {
     "data": {
      "text/plain": [
       "dtype('float64')"
      ]
     },
     "execution_count": 18,
     "metadata": {},
     "output_type": "execute_result"
    }
   ],
   "source": [
    "arr.dtype"
   ]
  },
  {
   "cell_type": "code",
   "execution_count": 31,
   "id": "76749158",
   "metadata": {},
   "outputs": [
    {
     "data": {
      "text/plain": [
       "33.386248"
      ]
     },
     "execution_count": 31,
     "metadata": {},
     "output_type": "execute_result"
    }
   ],
   "source": []
  },
  {
   "cell_type": "code",
   "execution_count": 21,
   "id": "f5b5ef4a",
   "metadata": {},
   "outputs": [
    {
     "data": {
      "text/plain": [
       "58"
      ]
     },
     "execution_count": 21,
     "metadata": {},
     "output_type": "execute_result"
    }
   ],
   "source": [
    "314 - 256"
   ]
  },
  {
   "cell_type": "code",
   "execution_count": 15,
   "id": "32037d91",
   "metadata": {},
   "outputs": [
    {
     "data": {
      "text/plain": [
       "33386376"
      ]
     },
     "execution_count": 15,
     "metadata": {},
     "output_type": "execute_result"
    }
   ],
   "source": [
    "sys.getsizeof(arr)"
   ]
  },
  {
   "cell_type": "code",
   "execution_count": 2,
   "id": "1b6962ee",
   "metadata": {},
   "outputs": [
    {
     "ename": "FileNotFoundError",
     "evalue": "[Errno 2] Unable to open file (unable to open file: name = '/home/lorenzo/3dunet-cavity/runs/run_210628_gpu/predictions/1a4r_grids_predictions.h5', errno = 2, error message = 'No such file or directory', flags = 0, o_flags = 0)",
     "output_type": "error",
     "traceback": [
      "\u001b[0;31m---------------------------------------------------------------------------\u001b[0m",
      "\u001b[0;31mFileNotFoundError\u001b[0m                         Traceback (most recent call last)",
      "\u001b[0;32m/tmp/ipykernel_41860/3439235494.py\u001b[0m in \u001b[0;36m<module>\u001b[0;34m\u001b[0m\n\u001b[1;32m     14\u001b[0m \u001b[0mligandfname\u001b[0m \u001b[0;34m=\u001b[0m \u001b[0;34mf'{datadir}/{name}/{name}_ligand.pdb'\u001b[0m\u001b[0;34m\u001b[0m\u001b[0;34m\u001b[0m\u001b[0m\n\u001b[1;32m     15\u001b[0m \u001b[0;34m\u001b[0m\u001b[0m\n\u001b[0;32m---> 16\u001b[0;31m \u001b[0mgrids\u001b[0m \u001b[0;34m=\u001b[0m \u001b[0mh5py\u001b[0m\u001b[0;34m.\u001b[0m\u001b[0mFile\u001b[0m\u001b[0;34m(\u001b[0m\u001b[0mpredfname\u001b[0m\u001b[0;34m)\u001b[0m\u001b[0;34m\u001b[0m\u001b[0;34m\u001b[0m\u001b[0m\n\u001b[0m\u001b[1;32m     17\u001b[0m \u001b[0mpred\u001b[0m \u001b[0;34m=\u001b[0m \u001b[0mnp\u001b[0m\u001b[0;34m.\u001b[0m\u001b[0marray\u001b[0m\u001b[0;34m(\u001b[0m\u001b[0mgrids\u001b[0m\u001b[0;34m[\u001b[0m\u001b[0;34m'predictions'\u001b[0m\u001b[0;34m]\u001b[0m\u001b[0;34m[\u001b[0m\u001b[0;36m0\u001b[0m\u001b[0;34m]\u001b[0m\u001b[0;34m)\u001b[0m\u001b[0;34m\u001b[0m\u001b[0;34m\u001b[0m\u001b[0m\n\u001b[1;32m     18\u001b[0m \u001b[0mpredbin\u001b[0m \u001b[0;34m=\u001b[0m \u001b[0mpred\u001b[0m  \u001b[0;34m>\u001b[0m \u001b[0;36m0.5\u001b[0m\u001b[0;34m\u001b[0m\u001b[0;34m\u001b[0m\u001b[0m\n",
      "\u001b[0;32m~/miniconda3/envs/apbs/lib/python3.8/site-packages/h5py/_hl/files.py\u001b[0m in \u001b[0;36m__init__\u001b[0;34m(self, name, mode, driver, libver, userblock_size, swmr, rdcc_nslots, rdcc_nbytes, rdcc_w0, track_order, fs_strategy, fs_persist, fs_threshold, **kwds)\u001b[0m\n\u001b[1;32m    440\u001b[0m             \u001b[0;32mwith\u001b[0m \u001b[0mphil\u001b[0m\u001b[0;34m:\u001b[0m\u001b[0;34m\u001b[0m\u001b[0;34m\u001b[0m\u001b[0m\n\u001b[1;32m    441\u001b[0m                 \u001b[0mfapl\u001b[0m \u001b[0;34m=\u001b[0m \u001b[0mmake_fapl\u001b[0m\u001b[0;34m(\u001b[0m\u001b[0mdriver\u001b[0m\u001b[0;34m,\u001b[0m \u001b[0mlibver\u001b[0m\u001b[0;34m,\u001b[0m \u001b[0mrdcc_nslots\u001b[0m\u001b[0;34m,\u001b[0m \u001b[0mrdcc_nbytes\u001b[0m\u001b[0;34m,\u001b[0m \u001b[0mrdcc_w0\u001b[0m\u001b[0;34m,\u001b[0m \u001b[0;34m**\u001b[0m\u001b[0mkwds\u001b[0m\u001b[0;34m)\u001b[0m\u001b[0;34m\u001b[0m\u001b[0;34m\u001b[0m\u001b[0m\n\u001b[0;32m--> 442\u001b[0;31m                 fid = make_fid(name, mode, userblock_size,\n\u001b[0m\u001b[1;32m    443\u001b[0m                                fapl, fcpl=make_fcpl(track_order=track_order, fs_strategy=fs_strategy,\n\u001b[1;32m    444\u001b[0m                                fs_persist=fs_persist, fs_threshold=fs_threshold),\n",
      "\u001b[0;32m~/miniconda3/envs/apbs/lib/python3.8/site-packages/h5py/_hl/files.py\u001b[0m in \u001b[0;36mmake_fid\u001b[0;34m(name, mode, userblock_size, fapl, fcpl, swmr)\u001b[0m\n\u001b[1;32m    193\u001b[0m         \u001b[0;32mif\u001b[0m \u001b[0mswmr\u001b[0m \u001b[0;32mand\u001b[0m \u001b[0mswmr_support\u001b[0m\u001b[0;34m:\u001b[0m\u001b[0;34m\u001b[0m\u001b[0;34m\u001b[0m\u001b[0m\n\u001b[1;32m    194\u001b[0m             \u001b[0mflags\u001b[0m \u001b[0;34m|=\u001b[0m \u001b[0mh5f\u001b[0m\u001b[0;34m.\u001b[0m\u001b[0mACC_SWMR_READ\u001b[0m\u001b[0;34m\u001b[0m\u001b[0;34m\u001b[0m\u001b[0m\n\u001b[0;32m--> 195\u001b[0;31m         \u001b[0mfid\u001b[0m \u001b[0;34m=\u001b[0m \u001b[0mh5f\u001b[0m\u001b[0;34m.\u001b[0m\u001b[0mopen\u001b[0m\u001b[0;34m(\u001b[0m\u001b[0mname\u001b[0m\u001b[0;34m,\u001b[0m \u001b[0mflags\u001b[0m\u001b[0;34m,\u001b[0m \u001b[0mfapl\u001b[0m\u001b[0;34m=\u001b[0m\u001b[0mfapl\u001b[0m\u001b[0;34m)\u001b[0m\u001b[0;34m\u001b[0m\u001b[0;34m\u001b[0m\u001b[0m\n\u001b[0m\u001b[1;32m    196\u001b[0m     \u001b[0;32melif\u001b[0m \u001b[0mmode\u001b[0m \u001b[0;34m==\u001b[0m \u001b[0;34m'r+'\u001b[0m\u001b[0;34m:\u001b[0m\u001b[0;34m\u001b[0m\u001b[0;34m\u001b[0m\u001b[0m\n\u001b[1;32m    197\u001b[0m         \u001b[0mfid\u001b[0m \u001b[0;34m=\u001b[0m \u001b[0mh5f\u001b[0m\u001b[0;34m.\u001b[0m\u001b[0mopen\u001b[0m\u001b[0;34m(\u001b[0m\u001b[0mname\u001b[0m\u001b[0;34m,\u001b[0m \u001b[0mh5f\u001b[0m\u001b[0;34m.\u001b[0m\u001b[0mACC_RDWR\u001b[0m\u001b[0;34m,\u001b[0m \u001b[0mfapl\u001b[0m\u001b[0;34m=\u001b[0m\u001b[0mfapl\u001b[0m\u001b[0;34m)\u001b[0m\u001b[0;34m\u001b[0m\u001b[0;34m\u001b[0m\u001b[0m\n",
      "\u001b[0;32mh5py/_objects.pyx\u001b[0m in \u001b[0;36mh5py._objects.with_phil.wrapper\u001b[0;34m()\u001b[0m\n",
      "\u001b[0;32mh5py/_objects.pyx\u001b[0m in \u001b[0;36mh5py._objects.with_phil.wrapper\u001b[0;34m()\u001b[0m\n",
      "\u001b[0;32mh5py/h5f.pyx\u001b[0m in \u001b[0;36mh5py.h5f.open\u001b[0;34m()\u001b[0m\n",
      "\u001b[0;31mFileNotFoundError\u001b[0m: [Errno 2] Unable to open file (unable to open file: name = '/home/lorenzo/3dunet-cavity/runs/run_210628_gpu/predictions/1a4r_grids_predictions.h5', errno = 2, error message = 'No such file or directory', flags = 0, o_flags = 0)"
     ]
    }
   ],
   "source": [
    "import h5py\n",
    "import numpy as np\n",
    "import prody\n",
    "import os\n",
    "from potsim2 import PotGrid\n",
    "\n",
    "predbase = f'/home/lorenzo/3dunet-cavity/runs/run_210628_gpu'\n",
    "\n",
    "datadir = '/home/lorenzo/deep_apbs/destData/refined-set_filter'\n",
    "name = '1a4r'\n",
    "\n",
    "predfname = f'{predbase}/predictions/{name}_grids_predictions.h5'\n",
    "pdbfname = f'{datadir}/{name}/{name}_selected.pdb'\n",
    "ligandfname = f'{datadir}/{name}/{name}_ligand.pdb'\n",
    "\n",
    "grids = h5py.File(predfname)\n",
    "pred = np.array(grids['predictions'][0])\n",
    "predbin = pred  > 0.5\n",
    "\n",
    "structure = prody.parsePDB(pdbfname)\n",
    "grid = PotGrid(f\"{datadir}/{name}/{name}_selected.pdb\", f\"{datadir}/{name}/{name}_grid.dx.gz\")\n",
    "\n",
    "ligand = prody.parsePDB(ligandfname)"
   ]
  },
  {
   "cell_type": "code",
   "execution_count": 4,
   "id": "9b619490",
   "metadata": {},
   "outputs": [
    {
     "data": {
      "text/plain": [
       "<Selection: 'same residue as... of resname GNH' from 1a4r_ligand + 1a4r_selected (246 atoms)>"
      ]
     },
     "execution_count": 4,
     "metadata": {},
     "output_type": "execute_result"
    }
   ],
   "source": [
    "complx = ligand + structure\n",
    "lresname = ligand.getResnames()[0]\n",
    "pocket = complx.select(f'same residue as exwithin 4.5 of resname {lresname}')\n",
    "prody.writePDB(f'{datadir}/{name}/{name}_pocket.pdb', pocket)\n",
    "pocket"
   ]
  },
  {
   "cell_type": "code",
   "execution_count": 5,
   "id": "ddf6257d",
   "metadata": {},
   "outputs": [
    {
     "name": "stdout",
     "output_type": "stream",
     "text": [
      "8.8395 169.8395\n",
      "-53.3765 107.6235\n",
      "-86.7575 74.2425\n"
     ]
    }
   ],
   "source": [
    "print(min(grid.edges[0]), max(grid.edges[0]))\n",
    "print(min(grid.edges[1]), max(grid.edges[1]))\n",
    "print(min(grid.edges[2]), max(grid.edges[2]))"
   ]
  },
  {
   "cell_type": "code",
   "execution_count": 6,
   "id": "a9983ac5",
   "metadata": {},
   "outputs": [
    {
     "name": "stdout",
     "output_type": "stream",
     "text": [
      "60.64 118.039\n",
      "6.425 47.822\n",
      "-27.466 14.951\n"
     ]
    }
   ],
   "source": [
    "print(min(x[0] for x in structure.getCoords()), max(x[0] for x in structure.getCoords()))\n",
    "print(min(x[1] for x in structure.getCoords()), max(x[1] for x in structure.getCoords()))\n",
    "print(min(x[2] for x in structure.getCoords()), max(x[2] for x in structure.getCoords()))"
   ]
  },
  {
   "cell_type": "code",
   "execution_count": 71,
   "id": "61b50384",
   "metadata": {},
   "outputs": [],
   "source": [
    "coords = []\n",
    "\n",
    "for i,coord in enumerate(structure.getCoords()):\n",
    "    x,y,z = coord\n",
    "    binx = int((x - min(grid.edges[0])) / grid.delta[0])\n",
    "    biny = int((y - min(grid.edges[1])) / grid.delta[1])\n",
    "    binz = int((z - min(grid.edges[2])) / grid.delta[2])\n",
    "    \n",
    "    try:\n",
    "        if predbin[binx,biny,binz]:\n",
    "            coords.append(i)\n",
    "    except IndexError as e:\n",
    "        print(x,  min(grid.edges[0]), max(grid.edges[0]), grid.delta[0])\n",
    "        print(binx,biny,binz)\n",
    "        raise e"
   ]
  },
  {
   "cell_type": "code",
   "execution_count": 73,
   "id": "efab4952",
   "metadata": {},
   "outputs": [],
   "source": [
    "s = structure[[coords]]\n",
    "lresname = s.getResnames()[0]"
   ]
  },
  {
   "cell_type": "code",
   "execution_count": 90,
   "id": "d297cf86",
   "metadata": {},
   "outputs": [
    {
     "data": {
      "text/plain": [
       "0"
      ]
     },
     "execution_count": 90,
     "metadata": {},
     "output_type": "execute_result"
    }
   ],
   "source": [
    "len(prody.AtomGroup())"
   ]
  },
  {
   "cell_type": "code",
   "execution_count": 84,
   "id": "bd043b65",
   "metadata": {},
   "outputs": [
    {
     "data": {
      "text/plain": [
       "<AtomGroup: 1a4r_selected (3004 atoms)>"
      ]
     },
     "execution_count": 84,
     "metadata": {},
     "output_type": "execute_result"
    }
   ],
   "source": [
    "structure.copy()"
   ]
  },
  {
   "cell_type": "code",
   "execution_count": 64,
   "id": "fa86c019",
   "metadata": {},
   "outputs": [],
   "source": [
    "fname1 = '/home/lorenzo/deep_apbs/destData/refined-set_filter_1/2ydw/2ydw_selected.pdb'\n",
    "fname2 = '/home/lorenzo/deep_apbs/destData/refined-set_filter_1/2ydw/2ydw_grid.dx.gz'\n",
    "\n",
    "grid2  = PotGrid(fname1, fname2)"
   ]
  },
  {
   "cell_type": "code",
   "execution_count": 58,
   "id": "f8bc11fe",
   "metadata": {},
   "outputs": [
    {
     "data": {
      "text/plain": [
       "<Selection: 'same residue as... 2780 2781 2783' from 1a4r_selected (845 atoms)>"
      ]
     },
     "execution_count": 58,
     "metadata": {},
     "output_type": "execute_result"
    }
   ],
   "source": [
    "idxstr = ' '.join(map(str,s.getIndices()))\n",
    "s2 = structure.select(f'same residue as index {idxstr}')\n",
    "s2"
   ]
  },
  {
   "cell_type": "code",
   "execution_count": null,
   "id": "34879f99",
   "metadata": {},
   "outputs": [],
   "source": [
    "pocket = structure.select(f'same residue as {lresname}')"
   ]
  },
  {
   "cell_type": "code",
   "execution_count": 79,
   "id": "aa98db91",
   "metadata": {},
   "outputs": [],
   "source": [
    "grid.grid = predbin.astype(int)\n",
    "grid.export(f'{predbase}/{name}_predicted.dx')"
   ]
  },
  {
   "cell_type": "code",
   "execution_count": null,
   "id": "704f7e39",
   "metadata": {},
   "outputs": [],
   "source": [
    "prody.parsePDB(pdbfname)"
   ]
  },
  {
   "cell_type": "code",
   "execution_count": 64,
   "id": "0c866c28",
   "metadata": {},
   "outputs": [
    {
     "data": {
      "text/plain": [
       "<AtomGroup: 1a4r_selected (3004 atoms)>"
      ]
     },
     "execution_count": 64,
     "metadata": {},
     "output_type": "execute_result"
    }
   ],
   "source": [
    "structure"
   ]
  },
  {
   "cell_type": "code",
   "execution_count": 63,
   "id": "8c475b7e",
   "metadata": {},
   "outputs": [
    {
     "data": {
      "text/plain": [
       "<AtomGroup: Selection 'index 57 61 64 ...80 to 2781 2783' (0 atoms; no coordinates)>"
      ]
     },
     "execution_count": 63,
     "metadata": {},
     "output_type": "execute_result"
    }
   ],
   "source": [
    "prody.AtomGroup(s)"
   ]
  },
  {
   "cell_type": "code",
   "execution_count": 54,
   "id": "bbac104d",
   "metadata": {},
   "outputs": [
    {
     "data": {
      "text/plain": [
       "(3004, 519)"
      ]
     },
     "execution_count": 54,
     "metadata": {},
     "output_type": "execute_result"
    }
   ],
   "source": [
    "len(structure.getCoords()), len(coords)"
   ]
  }
 ],
 "metadata": {
  "kernelspec": {
   "display_name": "Python 3",
   "language": "python",
   "name": "python3"
  },
  "language_info": {
   "codemirror_mode": {
    "name": "ipython",
    "version": 3
   },
   "file_extension": ".py",
   "mimetype": "text/x-python",
   "name": "python",
   "nbconvert_exporter": "python",
   "pygments_lexer": "ipython3",
   "version": "3.10.0"
  }
 },
 "nbformat": 4,
 "nbformat_minor": 5
}
